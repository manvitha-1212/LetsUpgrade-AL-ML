{
 "cells": [
  {
   "cell_type": "code",
   "execution_count": 6,
   "metadata": {},
   "outputs": [
    {
     "name": "stdout",
     "output_type": "stream",
     "text": [
      "3 5 7 11 13 17 19 23 29 31 37 41 43 47 53 59 61 67 71 73 "
     ]
    }
   ],
   "source": [
    "#question 1\n",
    "r=74\n",
    "for a in range(3,r+1):  \n",
    "    k=0  \n",
    "    for i in range(2,a//2+1):  \n",
    "        if(a%i==0):  \n",
    "            k=k+1  \n",
    "    if(k<=0):  \n",
    "        print(a,end=\" \")  "
   ]
  },
  {
   "cell_type": "code",
   "execution_count": 29,
   "metadata": {},
   "outputs": [
    {
     "name": "stdout",
     "output_type": "stream",
     "text": [
      "string concatenation : ManvithaRAMPUR 12.12\n",
      "repetition :  ManvithaManvithaManvitha\n",
      "string length :  8\n",
      "string in upper case : Manvitha\n",
      "string in lower case :  manvitha\n",
      "to check the string is in lower case : False\n",
      "to check the string is in upper case : True\n",
      "to check string is of alphabets :  True\n",
      "to check string has numericals :  False\n",
      "finding a letter in the string : 2\n",
      "to check whether string has spaces :  False\n",
      "to check whether string has decimal values : False\n",
      "to check whether string is identifier  : False\n",
      "to convert into title  : ManvithaRampur 12.12\n",
      "to check whether string is title : True\n"
     ]
    }
   ],
   "source": [
    "#question 2\n",
    "###string function()\n",
    "a=\"Manvitha\"\n",
    "b=\"RAMPUR 12.12\"\n",
    "\n",
    "print(\"string concatenation :\",(a + b))\n",
    "print(\"repetition : \",a*3)\n",
    "print(\"string length : \",len(a))\n",
    "\n",
    "print(\"string in upper case :\",a.capitalize())\n",
    "print(\"string in lower case : \",a.lower())\n",
    "print(\"to check the string is in lower case :\",a.islower())\n",
    "\n",
    "print(\"to check the string is in upper case :\",b.isupper())\n",
    "print(\"to check string is of alphabets : \",a.isalpha())\n",
    "print(\"to check string has numericals : \",b.isnumeric())\n",
    "\n",
    "print(\"finding a letter in the string :\",a.find('n'))\n",
    "print(\"to check whether string has spaces : \",a.isspace())\n",
    "print(\"to check whether string has decimal values :\",b.isdecimal())\n",
    "\n",
    "print(\"to check whether string is identifier  :\",b.isidentifier())\n",
    "print(\"to convert into title  :\",a + b.title())\n",
    "print(\"to check whether string is title :\",a.istitle())\n",
    "\n",
    "\n",
    "\n",
    "\n",
    "\n"
   ]
  },
  {
   "cell_type": "code",
   "execution_count": 2,
   "metadata": {},
   "outputs": [
    {
     "name": "stdout",
     "output_type": "stream",
     "text": [
      "input string 1 :maam\n",
      "input string 2 :maam\n",
      "string is a palindrome\n"
     ]
    }
   ],
   "source": [
    "#question 3\n",
    "def isPalindrome(s1): \n",
    "    return s1 == s1[::-1] \n",
    "def isanagram(s1,s2):\n",
    "    return sorted(s1)==sorted(s2)\n",
    " \n",
    "s1 = str(input(\"input string 1 :\"))\n",
    "s2 = str(input(\"input string 2 :\"))\n",
    "ans1 = isPalindrome(s1)\n",
    "ans2 = isanagram(s1,s2)\n",
    "if ans1:\n",
    "    print(\"string is a palindrome\")\n",
    "elif ans2:\n",
    "    print(\"string is anagram\")\n",
    "else :\n",
    "    print(\"none of the above\")"
   ]
  },
  {
   "cell_type": "code",
   "execution_count": 3,
   "metadata": {},
   "outputs": [
    {
     "name": "stdout",
     "output_type": "stream",
     "text": [
      "input string 1 :heart\n",
      "input string 2 :earth\n",
      "string is anagram\n"
     ]
    }
   ],
   "source": [
    "#question 3\n",
    "def isPalindrome(s1): \n",
    "    return s1 == s1[::-1] \n",
    "def isanagram(s1,s2):\n",
    "    return sorted(s1)==sorted(s2)\n",
    " \n",
    "s1 = str(input(\"input string 1 :\"))\n",
    "s2 = str(input(\"input string 2 :\"))\n",
    "ans1 = isPalindrome(s1)\n",
    "ans2 = isanagram(s1,s2)\n",
    "if ans1:\n",
    "    print(\"string is a palindrome\")\n",
    "elif ans2:\n",
    "    print(\"string is anagram\")\n",
    "else :\n",
    "    print(\"none of the above\")"
   ]
  },
  {
   "cell_type": "code",
   "execution_count": 4,
   "metadata": {},
   "outputs": [
    {
     "name": "stdout",
     "output_type": "stream",
     "text": [
      "input string 1 :manvitha\n",
      "input string 2 :rampur\n",
      "none of the above\n"
     ]
    }
   ],
   "source": [
    "#question 3\n",
    "def isPalindrome(s1): \n",
    "    return s1 == s1[::-1] \n",
    "def isanagram(s1,s2):\n",
    "    return sorted(s1)==sorted(s2)\n",
    " \n",
    "s1 = str(input(\"input string 1 :\"))\n",
    "s2 = str(input(\"input string 2 :\"))\n",
    "ans1 = isPalindrome(s1)\n",
    "ans2 = isanagram(s1,s2)\n",
    "if ans1:\n",
    "    print(\"string is a palindrome\")\n",
    "elif ans2:\n",
    "    print(\"string is anagram\")\n",
    "else :\n",
    "    print(\"none of the above\")"
   ]
  },
  {
   "cell_type": "code",
   "execution_count": 6,
   "metadata": {},
   "outputs": [
    {
     "name": "stdout",
     "output_type": "stream",
     "text": [
      "enter a string :manvitha@gmail.com\n",
      "manvithagmailcom\n"
     ]
    }
   ],
   "source": [
    "#question 4\n",
    "a_string = str(input(\"enter a string :\"))\n",
    "alpha = \"\"\n",
    "for character in a_string:\n",
    "    if character.isalpha():\n",
    "        alpha += character        \n",
    "print(alpha.lower())"
   ]
  },
  {
   "cell_type": "code",
   "execution_count": null,
   "metadata": {},
   "outputs": [],
   "source": []
  }
 ],
 "metadata": {
  "kernelspec": {
   "display_name": "Python 3",
   "language": "python",
   "name": "python3"
  },
  "language_info": {
   "codemirror_mode": {
    "name": "ipython",
    "version": 3
   },
   "file_extension": ".py",
   "mimetype": "text/x-python",
   "name": "python",
   "nbconvert_exporter": "python",
   "pygments_lexer": "ipython3",
   "version": "3.7.6"
  }
 },
 "nbformat": 4,
 "nbformat_minor": 4
}
