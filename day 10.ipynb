{
 "cells": [
  {
   "cell_type": "markdown",
   "metadata": {},
   "source": [
    "HYPOTHESIS\n",
    "\n",
    "\n",
    "1) If I take my vitamins every day, then I will not feel tired.\n",
    "\n",
    "2) If you cover a wound with a bandage, then it will heal with less scarring.\n",
    "\n",
    "3) All lilies have same number of petals.\n",
    "\n",
    "4) Consumption of sugary drinks everyday leads to obesity.\n",
    "\n",
    "5) If I replace the battery in my car, then my car will get better gas mileage.\n",
    "\n",
    "6) If I add fertilizer to my garden, then my plants will grow faster.\n",
    "\n",
    "7) If I brush my teeth every day, then I will not develop cavities.\n",
    "\n",
    "8) If you get at least 6 hours of sleep, you will do better on tests than if you get less sleep.\n",
    "\n",
    "9) If I shampoo my hair everyday, then I won't have dandruff.\n",
    "\n",
    "10) If I just think positive thoughts, then I will not have a bad day."
   ]
  },
  {
   "cell_type": "code",
   "execution_count": null,
   "metadata": {},
   "outputs": [],
   "source": []
  },
  {
   "cell_type": "code",
   "execution_count": null,
   "metadata": {},
   "outputs": [],
   "source": []
  },
  {
   "cell_type": "code",
   "execution_count": null,
   "metadata": {},
   "outputs": [],
   "source": []
  },
  {
   "cell_type": "code",
   "execution_count": null,
   "metadata": {},
   "outputs": [],
   "source": []
  },
  {
   "cell_type": "code",
   "execution_count": null,
   "metadata": {},
   "outputs": [],
   "source": []
  },
  {
   "cell_type": "code",
   "execution_count": null,
   "metadata": {},
   "outputs": [],
   "source": []
  }
 ],
 "metadata": {
  "kernelspec": {
   "display_name": "Python 3",
   "language": "python",
   "name": "python3"
  },
  "language_info": {
   "codemirror_mode": {
    "name": "ipython",
    "version": 3
   },
   "file_extension": ".py",
   "mimetype": "text/x-python",
   "name": "python",
   "nbconvert_exporter": "python",
   "pygments_lexer": "ipython3",
   "version": "3.7.6"
  }
 },
 "nbformat": 4,
 "nbformat_minor": 4
}
