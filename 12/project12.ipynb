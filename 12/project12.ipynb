{
 "cells": [
  {
   "cell_type": "code",
   "execution_count": 1,
   "metadata": {},
   "outputs": [],
   "source": [
    "\n",
    "import io\n",
    "import random\n",
    "import string\n",
    "import warnings\n",
    "import numpy as np\n",
    "from sklearn.feature_extraction.text import TfidfVectorizer\n",
    "from sklearn.metrics.pairwise import cosine_similarity\n",
    "warnings.filterwarnings('ignore')"
   ]
  },
  {
   "cell_type": "code",
   "execution_count": 9,
   "metadata": {},
   "outputs": [],
   "source": [
    "\n",
    "f=open(\"C://Users//Manvitha R G//Desktop//ai and ml//PROJECTS//12//chatbox.txt\",'r',errors = 'ignore')\n",
    "raw = f.read()\n",
    "raw = raw.lower()"
   ]
  },
  {
   "cell_type": "code",
   "execution_count": 10,
   "metadata": {},
   "outputs": [
    {
     "data": {
      "text/plain": [
       "True"
      ]
     },
     "execution_count": 10,
     "metadata": {},
     "output_type": "execute_result"
    }
   ],
   "source": [
    "import nltk\n",
    "from nltk.stem import WordNetLemmatizer\n",
    "nltk.download('popular', quiet = True)"
   ]
  },
  {
   "cell_type": "code",
   "execution_count": 11,
   "metadata": {},
   "outputs": [],
   "source": [
    "sent_tokens = nltk.sent_tokenize(raw)\n",
    "word_tokens = nltk.word_tokenize(raw)\n",
    "\n",
    "lemmer = nltk.stem.WordNetLemmatizer()\n",
    "def LemTokens(tokens):\n",
    "    return [lemmer.lemmatize(token) for token in tokens]\n",
    "remove_punct_dict = dict((ord(punct), None) for punct in string.punctuation)\n",
    "\n",
    "def LemNormalize(text):\n",
    "    return LemTokens(nltk.word_tokenize(text.lower().translate(remove_punct_dict)))"
   ]
  },
  {
   "cell_type": "code",
   "execution_count": 12,
   "metadata": {},
   "outputs": [],
   "source": [
    "Greeting_Input = ('hello','hi','greetings','sup',\"what's up\",'hey')\n",
    "Greeting_Response = ('hello','hi','greetings','*nods*','hi there','hello','I am glad to talk to you')\n",
    "def greeting(sentence):\n",
    "    for word in sentence.split():\n",
    "        if word.lower() in Greeting_Input:\n",
    "            return random.choice(Greeting_Response)"
   ]
  },
  {
   "cell_type": "code",
   "execution_count": 14,
   "metadata": {},
   "outputs": [],
   "source": [
    "def response(user_response):\n",
    "    robo_response =''\n",
    "    sent_tokens.append(user_response)\n",
    "    TfidfVec = TfidfVectorizer(tokenizer=LemNormalize, stop_words='english')\n",
    "    tfids = TfidfVec.fit_transform(sent_tokens)\n",
    "    vals = cosine_similarity(tfids[-1],tfids)\n",
    "    idx = vals.argsort()[0][-2]\n",
    "    flat = vals.flatten()\n",
    "    flat.sort()\n",
    "    req_tfidf = flat[-2]\n",
    "    if(req_tfidf==0):\n",
    "        robo_response = robo_response + \"I'm sorry!\"\n",
    "        return robo_response\n",
    "    else:\n",
    "        robo_response = robo_response + sent_tokens[idx]\n",
    "        return robo_response\n"
   ]
  },
  {
   "cell_type": "code",
   "execution_count": 15,
   "metadata": {},
   "outputs": [
    {
     "name": "stdout",
     "output_type": "stream",
     "text": [
      "ROBO: My name is Robo. I will answer your queries about Chatbots. if you wanna end the chat type bye\n",
      "hello\n",
      "ROBO: hello\n",
      "what is chatbox\n",
      "ROBO: I'm sorry!\n",
      "what is a chatbox\n",
      "ROBO: I'm sorry!\n",
      "tell me about chatbox\n",
      "ROBO: by responding to any input that contains the word 'mother' with 'tell me more about your family').\n",
      "mom\n",
      "ROBO: I'm sorry!\n",
      "bye\n",
      "ROBO: Bye! Take Care\n"
     ]
    }
   ],
   "source": [
    "flag = True\n",
    "print(\"ROBO: My name is Robo. I will answer your queries about Chatbots. if you wanna end the chat type bye\")\n",
    "while(flag == True):\n",
    "    user_response = input()\n",
    "    user_response = user_response.lower()\n",
    "    if(user_response!= 'bye'):\n",
    "        if(user_response=='thanks' or user_response=='thank you'):\n",
    "            flag = False\n",
    "            print(\"ROBO: You are Welcome :)\")\n",
    "        else:\n",
    "            if(greeting(user_response) != None):\n",
    "                print(\"ROBO: \" +greeting(user_response))\n",
    "            else:\n",
    "                print(\"ROBO: \", end=\"\")\n",
    "                print(response(user_response))\n",
    "                sent_tokens.remove(user_response)\n",
    "    else:\n",
    "        flag = False\n",
    "        print('ROBO: Bye! Take Care')"
   ]
  },
  {
   "cell_type": "code",
   "execution_count": null,
   "metadata": {},
   "outputs": [],
   "source": []
  }
 ],
 "metadata": {
  "kernelspec": {
   "display_name": "Python 3",
   "language": "python",
   "name": "python3"
  },
  "language_info": {
   "codemirror_mode": {
    "name": "ipython",
    "version": 3
   },
   "file_extension": ".py",
   "mimetype": "text/x-python",
   "name": "python",
   "nbconvert_exporter": "python",
   "pygments_lexer": "ipython3",
   "version": "3.7.6"
  }
 },
 "nbformat": 4,
 "nbformat_minor": 4
}
