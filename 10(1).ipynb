{
 "cells": [
  {
   "cell_type": "markdown",
   "metadata": {},
   "source": [
    "###question 1 \n",
    "The avearage  house rent in an apartment is 35 per month , X'= 43 and S = 33.(in thousands)</br>\n",
    "Assume level of significance to be .20 and sample is 20.</br>\n",
    "\n",
    "<p>H<sub>0</sub>:mu=35\n",
    "So it is two tail test and S is given so t test.</p>\n",
    "\n",
    " <p>Table value is 1.328 \n",
    "and calculated value is .1040 </br>\n",
    "as .1040 lies between -1.328 to +1.328 ,null hypothesis is accepted .</p>\n",
    "\n"
   ]
  },
  {
   "cell_type": "markdown",
   "metadata": {},
   "source": [
    "###question 2\n",
    "The avearage  rent of a shop in a shopping center is 67 per month, X'= 88 and S = 43.(in thousands)</br>\n",
    "Assume level of significance to be .10 and sample is 25.</br>\n",
    "\n",
    "<p>H<sub>0</sub>:mu=67 </br>\n",
    "So it is two tail test and S is given so t test.</p>\n",
    "\n",
    "<p>Table value is 1.711 </br>\n",
    "and calculated value is 2.4419</br>\n",
    "as 2.4419 does not lie  between -1.711 to +1.711 ,null hypothesis is rejected .</p>\n",
    "\n",
    "\n",
    "\n",
    "\n",
    "\n",
    "\n",
    "\n"
   ]
  },
  {
   "cell_type": "markdown",
   "metadata": {},
   "source": [
    "###question 3\n",
    "the mean price of a doll  is 15 , given X'=23 and sigma = 11.</br>\n",
    "Assume level of significance to be .10 and sample is 19.</br>\n",
    "\n",
    "H<sub>0</sub>:mu=15</br>\n",
    "So it is two tail test and sigma is given so Z test.\n",
    "\n",
    "<p>Table value is 1.734</br>\n",
    "and calculated value is 1.8353</br>\n",
    "as 1.8353 does not lie  between -1.734 to +1.734 ,null hypothesis is rejected .</p>\n",
    "\n",
    " \n",
    "\n"
   ]
  },
  {
   "cell_type": "markdown",
   "metadata": {},
   "source": [
    "###question 4\n",
    "A teacher wanted to know about students IQ so she collected sample of 40 students.</br>\n",
    "IQ score and have a mean score of 112.5.</br>\n",
    "The mean population IQ is 110 with sigma = 10.(alpha is not given assume to be .05)</br>\n",
    "\n",
    "<p>H<sub>0</sub>:mu=110</br>\n",
    "So it is two tail test and sigma is given so Z test.</br></p>\n",
    "\n",
    "<p>Table value is 2.045</br>\n",
    "and calculated value is 1.5812</br>\n",
    "as 1.5812  lies  between -2.045 to +2.045 ,null hypothesis is accepted.</p>\n"
   ]
  },
  {
   "cell_type": "markdown",
   "metadata": {},
   "source": [
    "###question 5\n",
    "Average number of children in a home is 3.if X'= 4 and S = 5.</br>\n",
    "Assume level of significance to be .10 and sample is 21.</br>\n",
    "\n",
    "<p>H<sub>0</sub>:mu >= 3</br>\n",
    "This is one tail and left tail test. It is a t test as S is given.</p>\n",
    "\n",
    "<p>Table value is 1.328</br>\n",
    "and calculated value is .9165</br>\n",
    "as .9165 greater than -1.328 , null hypothesis is accepted. </p>"
   ]
  },
  {
   "cell_type": "markdown",
   "metadata": {},
   "source": [
    "###question 6\n",
    "Average number of children in a home is 2.if X'= 4 and S = 6.\n",
    "Assume level of significance to be .10 and sample is 17.\n",
    "\n",
    "H<sub>0</sub>:mu <= 3\n",
    "This is one tail and right tail test. It is a t test as S is given\n",
    "\n",
    "Table value is 1.337\n",
    "and calcaluted value is 1.3744\n",
    "as 1.3744 lies outside the 1.337 , null hypothesis is rejected.\n",
    "\n"
   ]
  },
  {
   "cell_type": "markdown",
   "metadata": {},
   "source": [
    "###question 7\n",
    "Average number of children in a home is 4.if X'= 6 and S = 6.</br>\n",
    "Assume level of significance to be .05 and sample is 10.\n",
    "\n",
    "<p> H<sub>0</sub>:mu <= 3 </br>\n",
    "    This is one tail and right tail test. It is a t test as S is given</p>\n",
    "\n",
    "<p>Table value is 1.833. </br>\n",
    "And calcaluted value is 1.0541 ,</br>\n",
    "as 1.0541 lies within 1.833 , null hypothesis is accepted.</p>\n",
    "\n"
   ]
  },
  {
   "cell_type": "markdown",
   "metadata": {},
   "source": [
    "###question 8 \n",
    "Average number of people in a home are 6. X'= 9 and sigma = 10</br>\n",
    "assume alpha to be .10 and sample is 30\n",
    "\n",
    "H<sub>0</sub>:mu <= 6\n",
    " This is one tail and right tail test. It is a Z test as sigma is given\n",
    " \n",
    "\n",
    "<p>Table value is 1.311 . </br>\n",
    "And calcaluted value is 1.6432 ,</br>\n",
    "as 1.6432 lies outside 1.311 , null hypothesis is rejected.</p>\n",
    "\n",
    "\n",
    "\n"
   ]
  },
  {
   "cell_type": "markdown",
   "metadata": {},
   "source": [
    "###question 9\n",
    "<p>Average number of people in a home are 5. X'= 8 and sigma = 10\n",
    "assume alpha to be .05 and sample is 20</p>\n",
    "<p>H<sub>0</sub>:mu <= 5 </br>\n",
    "This is one tail and right tail test. It is a Z test as sigma is given</p>\n",
    "\n",
    "<p>Table value is 1.729 . </br>\n",
    "And calcaluted value is 1.3416 ,</br>\n",
    "as 1.3416 lies inside 1.729 , null hypothesis is accepted.</p>\n",
    "\n",
    "\n",
    "\n",
    "\n",
    "\n",
    "\n",
    "\n"
   ]
  },
  {
   "cell_type": "markdown",
   "metadata": {},
   "source": [
    "###question 10\n",
    "Average number of people in a home are 4. X'= 9 and sigma = 15\n",
    "assume alpha to be .05 and sample is 25\n",
    "\n",
    "<p>H<sub>0</sub>:mu >=4 </br>\n",
    "This is one tail and left tail test. It is a Z test as sigma is given</p>\n",
    "\n",
    "<p>Table value is 1.711. </br>\n",
    "And calcaluted value is 1.6667 ,</br>\n",
    "as 1.6667 greater than  -1.729 , null hypothesis is accepted.</p>\n",
    "\n",
    "\n"
   ]
  }
 ],
 "metadata": {
  "kernelspec": {
   "display_name": "Python 3",
   "language": "python",
   "name": "python3"
  },
  "language_info": {
   "codemirror_mode": {
    "name": "ipython",
    "version": 3
   },
   "file_extension": ".py",
   "mimetype": "text/x-python",
   "name": "python",
   "nbconvert_exporter": "python",
   "pygments_lexer": "ipython3",
   "version": "3.7.6"
  }
 },
 "nbformat": 4,
 "nbformat_minor": 4
}
