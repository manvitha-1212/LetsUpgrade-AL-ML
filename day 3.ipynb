{
 "cells": [
  {
   "cell_type": "code",
   "execution_count": 19,
   "metadata": {},
   "outputs": [
    {
     "name": "stdout",
     "output_type": "stream",
     "text": [
      "enter the first complex number :2+7j\n",
      "enter the second complex number :4+9j\n",
      "difference of complex number is : (-2-2j)\n"
     ]
    }
   ],
   "source": [
    "#Question 1:\n",
    "a=complex(input(\"enter the first complex number :\"))\n",
    "b=complex(input(\"enter the second complex number :\"))\n",
    "c=a-b\n",
    "print(\"difference of complex number is :\",c)"
   ]
  },
  {
   "cell_type": "code",
   "execution_count": 6,
   "metadata": {},
   "outputs": [
    {
     "name": "stdout",
     "output_type": "stream",
     "text": [
      "enter a number16\n",
      "fourth root of the number is: 2\n"
     ]
    }
   ],
   "source": [
    "#Question 2:\n",
    "import math\n",
    "n=int(input(\"enter a number: \"))\n",
    "m=pow(n,.25)\n",
    "print(\"fourth root of the number is:\", m)\n"
   ]
  },
  {
   "cell_type": "code",
   "execution_count": 2,
   "metadata": {},
   "outputs": [
    {
     "name": "stdout",
     "output_type": "stream",
     "text": [
      "enter the first number: 3\n",
      "enter the second number: 4\n",
      "after swapping numbers are :  4 3\n"
     ]
    }
   ],
   "source": [
    "#Question 3:\n",
    "a=int(input(\"enter the first number: \"))\n",
    "b=int(input(\"enter the second number: \"))\n",
    "temp=a\n",
    "a=b\n",
    "b=temp\n",
    "print(\"after swapping numbers are : \" ,a,b)"
   ]
  },
  {
   "cell_type": "code",
   "execution_count": 3,
   "metadata": {},
   "outputs": [
    {
     "name": "stdout",
     "output_type": "stream",
     "text": [
      "enter the first number: 5\n",
      "enter the second number: 6\n",
      "after swapping numbers are :  6 5\n"
     ]
    }
   ],
   "source": [
    "#Question 4:\n",
    "a=int(input(\"enter the first number: \"))\n",
    "b=int(input(\"enter the second number: \" ))\n",
    "a=a+b\n",
    "b=a-b\n",
    "a=a-b\n",
    "print(\"after swapping numbers are : \", a,b)\n"
   ]
  },
  {
   "cell_type": "code",
   "execution_count": 16,
   "metadata": {},
   "outputs": [
    {
     "name": "stdout",
     "output_type": "stream",
     "text": [
      "enter temperature in farenheit: 32\n",
      "temperature in celsius is : 0.0\n",
      "temperature in kelvin is :  273.0\n"
     ]
    }
   ],
   "source": [
    "#Question 5:\n",
    "f=float(input(\"enter temperature in farenheit: \"))\n",
    "c=(f-32)*(5/9)\n",
    "k=c+273\n",
    "print(\"temperature in celsius is :\",c)\n",
    "print(\"temperature in kelvin is : \", k)"
   ]
  },
  {
   "cell_type": "code",
   "execution_count": 18,
   "metadata": {},
   "outputs": [
    {
     "name": "stdout",
     "output_type": "stream",
     "text": [
      "<class 'int'>\n",
      "<class 'float'>\n",
      "<class 'complex'>\n",
      "<class 'str'>\n",
      "<class 'tuple'>\n",
      "<class 'list'>\n",
      "<class 'dict'>\n",
      "<class 'set'>\n"
     ]
    }
   ],
   "source": [
    "#Question 6:\n",
    "a=1234\n",
    "print(type(a))\n",
    "b=9.076\n",
    "print(type(b))\n",
    "c=6+9j\n",
    "print(type(c))\n",
    "d=\"hi\"\n",
    "print(type(d))\n",
    "e=(1,2,3,4,5,6)\n",
    "print(type(e))\n",
    "f=[1,2,3,4,5]\n",
    "print(type(f))\n",
    "\n",
    "g={1:\"one\",2:\"two\" ,3:\"three\"}\n",
    "print(type(g))\n",
    "h={1,2,3,4,5}\n",
    "print(type(h))"
   ]
  },
  {
   "cell_type": "markdown",
   "metadata": {},
   "source": [
    "#Question 7:\n",
    "\n",
    "### CREATING GITHUB PROFILE\n",
    "        -> Go to github.com\n",
    "        -> Sign up or if you are existing user then sign in.\n",
    "        -> Complete formalities by proving e-mail id and details to create account by signing in through gmail acoount.\n",
    "        -> Keep the code as public.\n",
    "        \n",
    "### HOW TO SUBMIT ASSIGNMENTS\n",
    "        -> Create a github public repository and name it as \"LetsUpgrade AL/ML\".\n",
    "        -> Upload files in the repository in day wise manner.\n",
    "        -> Copy the url of the folder of that particular day and paste in Google Form.\n",
    "        -> Make sure you give correct details in Assignment submission form.\n",
    "        -> Upload assignment solutions to github profile and submit the url."
   ]
  },
  {
   "cell_type": "code",
   "execution_count": null,
   "metadata": {},
   "outputs": [],
   "source": []
  },
  {
   "cell_type": "code",
   "execution_count": null,
   "metadata": {},
   "outputs": [],
   "source": []
  },
  {
   "cell_type": "code",
   "execution_count": null,
   "metadata": {},
   "outputs": [],
   "source": []
  }
 ],
 "metadata": {
  "kernelspec": {
   "display_name": "Python 3",
   "language": "python",
   "name": "python3"
  },
  "language_info": {
   "codemirror_mode": {
    "name": "ipython",
    "version": 3
   },
   "file_extension": ".py",
   "mimetype": "text/x-python",
   "name": "python",
   "nbconvert_exporter": "python",
   "pygments_lexer": "ipython3",
   "version": "3.7.6"
  }
 },
 "nbformat": 4,
 "nbformat_minor": 4
}
