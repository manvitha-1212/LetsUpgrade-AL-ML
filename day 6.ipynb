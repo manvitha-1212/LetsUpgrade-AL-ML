{
 "cells": [
  {
   "cell_type": "code",
   "execution_count": 2,
   "metadata": {},
   "outputs": [
    {
     "name": "stdout",
     "output_type": "stream",
     "text": [
      " enter mail address : manvitha@gmail.com\n",
      "gmail\n"
     ]
    }
   ],
   "source": [
    "\n",
    "#question 1\n",
    "import re\n",
    "\n",
    "emailAddress = input(\" enter mail address : \")\n",
    "pat2 = \"(\\w+)@(\\w+)\\.(com)\"\n",
    "r2 = re.match(pat2,emailAddress)\n",
    "print(r2.group(2))\n"
   ]
  },
  {
   "cell_type": "code",
   "execution_count": 3,
   "metadata": {},
   "outputs": [
    {
     "name": "stdout",
     "output_type": "stream",
     "text": [
      "enter list :kajal,ajay,navdeep,balaji\n",
      "ajay,balaji,kajal,navdeep\n"
     ]
    }
   ],
   "source": [
    "#question 2\n",
    "i = input(\"enter list :\")\n",
    "words = [word for word in i.split(\",\")]\n",
    "print(\",\".join(sorted(list(set(words)))))"
   ]
  },
  {
   "cell_type": "code",
   "execution_count": 1,
   "metadata": {},
   "outputs": [
    {
     "name": "stdout",
     "output_type": "stream",
     "text": [
      "{'pointers', 'arrays', 'functions'}\n"
     ]
    }
   ],
   "source": [
    "#question 3\n",
    "s={\"functions\",\"pointers\",\"arrays\"}\n",
    "print(s)"
   ]
  },
  {
   "cell_type": "markdown",
   "metadata": {},
   "source": [
    "##Access Items\n",
    "You cannot access items in a set by referring to an index, since sets are unordered the items has no index.\n",
    "\n"
   ]
  },
  {
   "cell_type": "code",
   "execution_count": 2,
   "metadata": {},
   "outputs": [
    {
     "name": "stdout",
     "output_type": "stream",
     "text": [
      "nisha\n",
      "suman\n",
      "arjun\n"
     ]
    }
   ],
   "source": [
    "a = {\"nisha\", \"suman\", \"arjun\"}\n",
    "\n",
    "for x in a:\n",
    "  print(x)"
   ]
  },
  {
   "cell_type": "markdown",
   "metadata": {},
   "source": [
    "##Join Two Sets\n",
    "You can use the union() method that returns a new set containing all items from both sets, or the update() method that inserts all the items from one set into another:"
   ]
  },
  {
   "cell_type": "code",
   "execution_count": 3,
   "metadata": {},
   "outputs": [
    {
     "name": "stdout",
     "output_type": "stream",
     "text": [
      "{'kannada', 'telugu', 'marathi', 'hindi', 'english', 'tamil'}\n"
     ]
    }
   ],
   "source": [
    "s1 = {\"kannada\", \"tamil\" , \"telugu\"}\n",
    "s2 = {\"marathi\", \"hindi\",\"english\" }\n",
    "\n",
    "s3 = s1.union(s2)\n",
    "print(s3)"
   ]
  },
  {
   "cell_type": "code",
   "execution_count": 4,
   "metadata": {},
   "outputs": [
    {
     "name": "stdout",
     "output_type": "stream",
     "text": [
      "{'lamhe', 563, 122, 'billu', 3452, 'fanaa'}\n"
     ]
    }
   ],
   "source": [
    "s1 = {\"billu\", \"fanaa\" , \"lamhe\"}\n",
    "s2 = {122, 3452, 563}\n",
    "s1.update(s2)\n",
    "print(s1)"
   ]
  },
  {
   "cell_type": "markdown",
   "metadata": {},
   "source": [
    "##Remove Item\n",
    "To remove an item in a set, use the remove(), or the discard() method."
   ]
  },
  {
   "cell_type": "code",
   "execution_count": 6,
   "metadata": {},
   "outputs": [
    {
     "name": "stdout",
     "output_type": "stream",
     "text": [
      "{'tesla', 'einstien'}\n"
     ]
    }
   ],
   "source": [
    "t = {\"einstien\", \"tesla\", \"wordsworth\"}\n",
    "\n",
    "t.remove(\"wordsworth\")\n",
    "\n",
    "print(t)"
   ]
  },
  {
   "cell_type": "code",
   "execution_count": 7,
   "metadata": {},
   "outputs": [
    {
     "name": "stdout",
     "output_type": "stream",
     "text": [
      "{'tesla', 'einstien'}\n"
     ]
    }
   ],
   "source": [
    "t = {\"einstien\", \"tesla\", \"wordsworth\"}\n",
    "\n",
    "t.discard(\"wordsworth\")\n",
    "\n",
    "print(t)"
   ]
  },
  {
   "cell_type": "markdown",
   "metadata": {},
   "source": [
    "##clear()\n",
    "The clear() method empties the set:"
   ]
  },
  {
   "cell_type": "code",
   "execution_count": 5,
   "metadata": {},
   "outputs": [
    {
     "name": "stdout",
     "output_type": "stream",
     "text": [
      "set()\n"
     ]
    }
   ],
   "source": [
    "thisset = {\"shiva\", \"ram\", \"sita\"}\n",
    "\n",
    "thisset.clear()\n",
    "\n",
    "print(thisset)"
   ]
  },
  {
   "cell_type": "code",
   "execution_count": 8,
   "metadata": {},
   "outputs": [
    {
     "name": "stdout",
     "output_type": "stream",
     "text": [
      "{'bangalore', 'mandya', 'goa'}\n"
     ]
    }
   ],
   "source": [
    "#copy()\n",
    "w = {\"goa\", \"bangalore\", \"mandya\"}\n",
    "x = w.copy()\n",
    "print(x)"
   ]
  },
  {
   "cell_type": "code",
   "execution_count": 9,
   "metadata": {},
   "outputs": [
    {
     "name": "stdout",
     "output_type": "stream",
     "text": [
      "True\n"
     ]
    }
   ],
   "source": [
    "#sdisjoint()\n",
    "x = {\"apple\", \"banana\", \"cherry\"}\n",
    "y = {\"google\", \"microsoft\", \"facebook\"}\n",
    "z = x.isdisjoint(y)\n",
    "print(z)"
   ]
  },
  {
   "cell_type": "code",
   "execution_count": 11,
   "metadata": {},
   "outputs": [
    {
     "name": "stdout",
     "output_type": "stream",
     "text": [
      "{'manvitha', 'neha', 'afizha'}\n"
     ]
    }
   ],
   "source": [
    "#pop()\n",
    "y={\"manvitha\",\"stella\",\"afizha\",\"neha\"}\n",
    "u=y.pop()\n",
    "print(y)"
   ]
  },
  {
   "cell_type": "code",
   "execution_count": 12,
   "metadata": {},
   "outputs": [
    {
     "name": "stdout",
     "output_type": "stream",
     "text": [
      "[11, 13, 14, 15, 16, 17, 18, 19, 20, 21, 22, 24, 26, 27, 29, 30, 31, 32, 33, 35]\n"
     ]
    }
   ],
   "source": [
    "#question 4\n",
    "\n",
    "def find_missing(lst): \n",
    "    return [x for x in range(lst[0], lst[-1]+1)  \n",
    "                               if x not in lst] \n",
    "  \n",
    "\n",
    "lst = [10, 12, 23, 25, 28, 34, 36] \n",
    "print(find_missing(lst)) "
   ]
  },
  {
   "cell_type": "code",
   "execution_count": 13,
   "metadata": {},
   "outputs": [
    {
     "name": "stdout",
     "output_type": "stream",
     "text": [
      "[2, 4, 10, 23, 34, 45, 34, 20, 5, 2, 20, 4]\n",
      "[2, 4, 10, 23, 34, 45, 20, 5]\n"
     ]
    }
   ],
   "source": [
    "#question 5\n",
    "def Remove(duplicate): \n",
    "    final_list = [] \n",
    "    for num in duplicate: \n",
    "        if num not in final_list: \n",
    "            final_list.append(num) \n",
    "    return final_list \n",
    "      \n",
    "\n",
    "duplicate = [2, 4, 10, 23, 34, 45, 34,20, 5, 2, 20, 4] \n",
    "print(duplicate) \n",
    "print(Remove(duplicate)) \n"
   ]
  }
 ],
 "metadata": {
  "kernelspec": {
   "display_name": "Python 3",
   "language": "python",
   "name": "python3"
  },
  "language_info": {
   "codemirror_mode": {
    "name": "ipython",
    "version": 3
   },
   "file_extension": ".py",
   "mimetype": "text/x-python",
   "name": "python",
   "nbconvert_exporter": "python",
   "pygments_lexer": "ipython3",
   "version": "3.7.6"
  }
 },
 "nbformat": 4,
 "nbformat_minor": 4
}
